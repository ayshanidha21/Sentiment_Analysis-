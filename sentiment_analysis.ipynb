{
  "nbformat": 4,
  "nbformat_minor": 0,
  "metadata": {
    "colab": {
      "provenance": []
    },
    "kernelspec": {
      "name": "python3",
      "display_name": "Python 3"
    },
    "language_info": {
      "name": "python"
    }
  },
  "cells": [
    {
      "cell_type": "code",
      "execution_count": null,
      "metadata": {
        "colab": {
          "base_uri": "https://localhost:8080/"
        },
        "id": "M3RSh4B9nZ22",
        "outputId": "c062d0d6-6063-43ea-e54b-3431024e9fac"
      },
      "outputs": [
        {
          "output_type": "stream",
          "name": "stdout",
          "text": [
            "Polarity: 0.7416666666666667, Subjectivity: 0.8333333333333334\n",
            "The sentiment is positive.\n"
          ]
        }
      ],
      "source": [
        "from textblob import TextBlob\n",
        "\n",
        "# Example text\n",
        "text = \"I love this product! It's amazing and works perfectly.\"\n",
        "\n",
        "# Create a TextBlob object\n",
        "blob = TextBlob(text)\n",
        "\n",
        "# Get the sentiment\n",
        "sentiment = blob.sentiment\n",
        "\n",
        "print(f\"Polarity: {sentiment.polarity}, Subjectivity: {sentiment.subjectivity}\")\n",
        "\n",
        "# Interpretation\n",
        "if sentiment.polarity > 0:\n",
        "    print(\"The sentiment is positive.\")\n",
        "elif sentiment.polarity < 0:\n",
        "    print(\"The sentiment is negative.\")\n",
        "else:\n",
        "    print(\"The sentiment is neutral.\")"
      ]
    }
  ]
}